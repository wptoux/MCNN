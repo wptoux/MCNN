{
 "cells": [
  {
   "cell_type": "markdown",
   "metadata": {
    "papermill": {
     "duration": 0.011721,
     "end_time": "2021-01-31T08:10:31.388543",
     "exception": false,
     "start_time": "2021-01-31T08:10:31.376822",
     "status": "completed"
    },
    "tags": []
   },
   "source": [
    "## Imports"
   ]
  },
  {
   "cell_type": "code",
   "execution_count": 1,
   "metadata": {
    "_cell_guid": "b1076dfc-b9ad-4769-8c92-a6c4dae69d19",
    "_uuid": "8f2839f25d086af736a60e9eeb907d3b93b6e0e5",
    "execution": {
     "iopub.execute_input": "2021-01-31T08:10:31.414959Z",
     "iopub.status.busy": "2021-01-31T08:10:31.413826Z",
     "iopub.status.idle": "2021-01-31T08:10:31.416690Z",
     "shell.execute_reply": "2021-01-31T08:10:31.416222Z"
    },
    "papermill": {
     "duration": 0.017549,
     "end_time": "2021-01-31T08:10:31.416840",
     "exception": false,
     "start_time": "2021-01-31T08:10:31.399291",
     "status": "completed"
    },
    "tags": []
   },
   "outputs": [],
   "source": [
    "import pandas as pd\n",
    "import numpy as np"
   ]
  },
  {
   "cell_type": "code",
   "execution_count": 2,
   "metadata": {
    "execution": {
     "iopub.execute_input": "2021-01-31T08:10:31.443312Z",
     "iopub.status.busy": "2021-01-31T08:10:31.442644Z",
     "iopub.status.idle": "2021-01-31T08:10:34.103705Z",
     "shell.execute_reply": "2021-01-31T08:10:34.102817Z"
    },
    "papermill": {
     "duration": 2.676234,
     "end_time": "2021-01-31T08:10:34.103846",
     "exception": false,
     "start_time": "2021-01-31T08:10:31.427612",
     "status": "completed"
    },
    "tags": []
   },
   "outputs": [],
   "source": [
    "import scipy\n",
    "import scipy.io\n",
    "import cv2\n",
    "\n",
    "from matplotlib import pyplot as plt\n",
    "\n",
    "from scipy.ndimage import gaussian_filter\n",
    "\n",
    "import torch\n",
    "import torch.nn as nn\n",
    "from torch.utils.data import DataLoader, Dataset\n",
    "\n",
    "from PIL import Image\n",
    "\n",
    "from pytorch_lightning import LightningModule, Trainer\n",
    "from pytorch_lightning import seed_everything\n",
    "\n",
    "import os\n",
    "\n",
    "from tqdm.notebook import tqdm"
   ]
  },
  {
   "cell_type": "markdown",
   "metadata": {
    "papermill": {
     "duration": 0.016226,
     "end_time": "2021-01-31T08:10:34.139929",
     "exception": false,
     "start_time": "2021-01-31T08:10:34.123703",
     "status": "completed"
    },
    "tags": []
   },
   "source": [
    "## Prepare dataset"
   ]
  },
  {
   "cell_type": "code",
   "execution_count": 3,
   "metadata": {
    "execution": {
     "iopub.execute_input": "2021-01-31T08:10:34.166942Z",
     "iopub.status.busy": "2021-01-31T08:10:34.166380Z",
     "iopub.status.idle": "2021-01-31T08:10:35.120756Z",
     "shell.execute_reply": "2021-01-31T08:10:35.121169Z"
    },
    "papermill": {
     "duration": 0.970334,
     "end_time": "2021-01-31T08:10:35.121328",
     "exception": false,
     "start_time": "2021-01-31T08:10:34.150994",
     "status": "completed"
    },
    "tags": []
   },
   "outputs": [
    {
     "data": {
      "text/plain": [
       "316"
      ]
     },
     "execution_count": 3,
     "metadata": {},
     "output_type": "execute_result"
    }
   ],
   "source": [
    "from sklearn.model_selection import train_test_split\n",
    "\n",
    "valid = [p.path for p in os.scandir('../input/shanghaitech/ShanghaiTech/part_B/test_data/images/')]\n",
    "\n",
    "len(valid)"
   ]
  },
  {
   "cell_type": "code",
   "execution_count": 4,
   "metadata": {
    "execution": {
     "iopub.execute_input": "2021-01-31T08:10:35.148410Z",
     "iopub.status.busy": "2021-01-31T08:10:35.147775Z",
     "iopub.status.idle": "2021-01-31T08:10:36.233149Z",
     "shell.execute_reply": "2021-01-31T08:10:36.233897Z"
    },
    "papermill": {
     "duration": 1.100768,
     "end_time": "2021-01-31T08:10:36.234217",
     "exception": false,
     "start_time": "2021-01-31T08:10:35.133449",
     "status": "completed"
    },
    "tags": []
   },
   "outputs": [],
   "source": [
    "from torchvision import transforms\n",
    "import albumentations as A\n",
    "from albumentations.pytorch import ToTensorV2"
   ]
  },
  {
   "cell_type": "code",
   "execution_count": 5,
   "metadata": {
    "execution": {
     "iopub.execute_input": "2021-01-31T08:10:36.285976Z",
     "iopub.status.busy": "2021-01-31T08:10:36.284751Z",
     "iopub.status.idle": "2021-01-31T08:10:36.292013Z",
     "shell.execute_reply": "2021-01-31T08:10:36.292704Z"
    },
    "papermill": {
     "duration": 0.038571,
     "end_time": "2021-01-31T08:10:36.292897",
     "exception": false,
     "start_time": "2021-01-31T08:10:36.254326",
     "status": "completed"
    },
    "tags": []
   },
   "outputs": [],
   "source": [
    "aug_val = A.Compose([\n",
    "    A.Resize(768, 1024),\n",
    "    A.Normalize((0.5), (0.5)),\n",
    "], keypoint_params=A.KeypointParams(format='xy', angle_in_degrees=False))\n",
    "\n",
    "class MyDataset(Dataset):\n",
    "    def __init__(self, files, aug):\n",
    "        self.files = files\n",
    "        self.aug = aug\n",
    "        \n",
    "    def __len__(self):\n",
    "        return len(self.files)\n",
    "    \n",
    "    def __getitem__(self, idx):\n",
    "        fn = self.files[idx]\n",
    "        \n",
    "        im = cv2.imread(fn, cv2.IMREAD_COLOR)\n",
    "        im = cv2.cvtColor(im, cv2.COLOR_BGR2GRAY)\n",
    "        \n",
    "        m = scipy.io.loadmat(fn.replace('images', 'ground-truth').replace('IMG', 'GT_IMG').replace('.jpg', '.mat'))\n",
    "        ps = m['image_info'][0][0][0][0][0]\n",
    "        \n",
    "        rst = self.aug(image=im, keypoints=ps)\n",
    "        im = rst['image']\n",
    "        ps = rst['keypoints']\n",
    "        \n",
    "        dm = np.zeros((im.shape[0], im.shape[1]), dtype=np.float32)\n",
    "        for x, y in ps:\n",
    "            x = int(x)\n",
    "            y = int(y)\n",
    "            dm[y, x] = 1\n",
    "\n",
    "        sigma = 4\n",
    "        dm = gaussian_filter(dm, sigma=sigma, truncate=4*sigma)\n",
    "        \n",
    "        dm = cv2.resize(dm, (im.shape[1] // 4, im.shape[0] // 4), interpolation=cv2.INTER_LINEAR)\n",
    "        dm *= 16\n",
    "        \n",
    "        im = torch.from_numpy(im)\n",
    "        dm = torch.from_numpy(dm)\n",
    "        \n",
    "        return im, dm"
   ]
  },
  {
   "cell_type": "markdown",
   "metadata": {
    "papermill": {
     "duration": 0.018108,
     "end_time": "2021-01-31T08:10:36.327938",
     "exception": false,
     "start_time": "2021-01-31T08:10:36.309830",
     "status": "completed"
    },
    "tags": []
   },
   "source": [
    "## Building Model"
   ]
  },
  {
   "cell_type": "code",
   "execution_count": 6,
   "metadata": {
    "execution": {
     "iopub.execute_input": "2021-01-31T08:10:36.372874Z",
     "iopub.status.busy": "2021-01-31T08:10:36.372125Z",
     "iopub.status.idle": "2021-01-31T08:10:36.376495Z",
     "shell.execute_reply": "2021-01-31T08:10:36.377378Z"
    },
    "papermill": {
     "duration": 0.031338,
     "end_time": "2021-01-31T08:10:36.377553",
     "exception": false,
     "start_time": "2021-01-31T08:10:36.346215",
     "status": "completed"
    },
    "tags": []
   },
   "outputs": [],
   "source": [
    "class Conv2d(nn.Module):\n",
    "    def __init__(self, in_channels, out_channels, kernel_size, stride=1, relu=True, same_padding=False, bn=False):\n",
    "        super(Conv2d, self).__init__()\n",
    "        padding = int((kernel_size - 1) / 2) if same_padding else 0\n",
    "        self.conv = nn.Conv2d(in_channels, out_channels, kernel_size, stride, padding=padding)\n",
    "        self.bn = nn.BatchNorm2d(out_channels, eps=0.001, momentum=0, affine=True) if bn else None\n",
    "        self.relu = nn.ReLU(inplace=True) if relu else None\n",
    "\n",
    "    def forward(self, x):\n",
    "        x = self.conv(x)\n",
    "        if self.bn is not None:\n",
    "            x = self.bn(x)\n",
    "        if self.relu is not None:\n",
    "            x = self.relu(x)\n",
    "        return x\n"
   ]
  },
  {
   "cell_type": "code",
   "execution_count": 7,
   "metadata": {
    "execution": {
     "iopub.execute_input": "2021-01-31T08:10:36.437256Z",
     "iopub.status.busy": "2021-01-31T08:10:36.434545Z",
     "iopub.status.idle": "2021-01-31T08:10:36.440156Z",
     "shell.execute_reply": "2021-01-31T08:10:36.441079Z"
    },
    "papermill": {
     "duration": 0.0451,
     "end_time": "2021-01-31T08:10:36.441246",
     "exception": false,
     "start_time": "2021-01-31T08:10:36.396146",
     "status": "completed"
    },
    "tags": []
   },
   "outputs": [],
   "source": [
    "class MCNN(LightningModule):\n",
    "    '''\n",
    "    Multi-column CNN \n",
    "        -Implementation of Single Image Crowd Counting via Multi-column CNN (Zhang et al.)\n",
    "    '''\n",
    "    \n",
    "    def __init__(self, lr, batch_size, max_steps, bn=False):\n",
    "        super(MCNN, self).__init__()\n",
    "        \n",
    "        self.lr = lr\n",
    "        self.save_hyperparameters()\n",
    "        \n",
    "        self.use = 0\n",
    "        \n",
    "        self.branch1 = nn.Sequential(Conv2d( 1, 16, 9, same_padding=True, bn=bn),\n",
    "                                     nn.MaxPool2d(2),\n",
    "                                     Conv2d(16, 32, 7, same_padding=True, bn=bn),\n",
    "                                     nn.MaxPool2d(2),\n",
    "                                     Conv2d(32, 16, 7, same_padding=True, bn=bn),\n",
    "                                     Conv2d(16,  8, 7, same_padding=True, bn=bn))\n",
    "        \n",
    "        self.branch2 = nn.Sequential(Conv2d( 1, 20, 7, same_padding=True, bn=bn),\n",
    "                                     nn.MaxPool2d(2),\n",
    "                                     Conv2d(20, 40, 5, same_padding=True, bn=bn),\n",
    "                                     nn.MaxPool2d(2),\n",
    "                                     Conv2d(40, 20, 5, same_padding=True, bn=bn),\n",
    "                                     Conv2d(20, 10, 5, same_padding=True, bn=bn))\n",
    "        \n",
    "        self.branch3 = nn.Sequential(Conv2d( 1, 24, 5, same_padding=True, bn=bn),\n",
    "                                     nn.MaxPool2d(2),\n",
    "                                     Conv2d(24, 48, 3, same_padding=True, bn=bn),\n",
    "                                     nn.MaxPool2d(2),\n",
    "                                     Conv2d(48, 24, 3, same_padding=True, bn=bn),\n",
    "                                     Conv2d(24, 12, 3, same_padding=True, bn=bn))\n",
    "        \n",
    "        self.fuse = nn.Sequential(Conv2d( 30, 1, 1, same_padding=True, bn=bn))\n",
    "        \n",
    "        self.out1 = nn.Sequential(Conv2d( 8, 1, 1, same_padding=True, bn=bn))\n",
    "        self.out2 = nn.Sequential(Conv2d( 10, 1, 1, same_padding=True, bn=bn))\n",
    "        self.out3 = nn.Sequential(Conv2d( 12, 1, 1, same_padding=True, bn=bn))\n",
    "        \n",
    "        self.crit = nn.MSELoss()\n",
    "        \n",
    "    def forward(self, im_data):\n",
    "        im_data = im_data.unsqueeze(1)\n",
    "        x1 = self.branch1(im_data)\n",
    "        x2 = self.branch2(im_data)\n",
    "        x3 = self.branch3(im_data)\n",
    "        \n",
    "        \n",
    "        if self.use == 0:\n",
    "            x = torch.cat((x1,x2,x3),1)\n",
    "            x = self.fuse(x)\n",
    "        elif self.use == 1:\n",
    "            x = self.out1(x1)\n",
    "        elif self.use == 2:\n",
    "            x = self.out2(x2)\n",
    "        elif self.use == 3:\n",
    "            x = self.out3(x3)\n",
    "        \n",
    "        return x.squeeze(1)"
   ]
  },
  {
   "cell_type": "markdown",
   "metadata": {
    "papermill": {
     "duration": 0.018304,
     "end_time": "2021-01-31T08:10:36.479717",
     "exception": false,
     "start_time": "2021-01-31T08:10:36.461413",
     "status": "completed"
    },
    "tags": []
   },
   "source": [
    "## Visualize the result\n",
    "We can see that the recognition results highlight the human body"
   ]
  },
  {
   "cell_type": "code",
   "execution_count": 8,
   "metadata": {
    "execution": {
     "iopub.execute_input": "2021-01-31T08:10:36.523115Z",
     "iopub.status.busy": "2021-01-31T08:10:36.522327Z",
     "iopub.status.idle": "2021-01-31T08:10:36.633140Z",
     "shell.execute_reply": "2021-01-31T08:10:36.634058Z"
    },
    "papermill": {
     "duration": 0.135705,
     "end_time": "2021-01-31T08:10:36.634239",
     "exception": false,
     "start_time": "2021-01-31T08:10:36.498534",
     "status": "completed"
    },
    "tags": []
   },
   "outputs": [],
   "source": [
    "model = MCNN.load_from_checkpoint('../input/shtech-mcnn/lightning_logs/version_0/checkpoints/epoch=267-step=3215.ckpt')"
   ]
  },
  {
   "cell_type": "code",
   "execution_count": 9,
   "metadata": {
    "execution": {
     "iopub.execute_input": "2021-01-31T08:10:36.690885Z",
     "iopub.status.busy": "2021-01-31T08:10:36.689899Z",
     "iopub.status.idle": "2021-01-31T08:10:37.394845Z",
     "shell.execute_reply": "2021-01-31T08:10:37.393910Z"
    },
    "papermill": {
     "duration": 0.731541,
     "end_time": "2021-01-31T08:10:37.394981",
     "exception": false,
     "start_time": "2021-01-31T08:10:36.663440",
     "status": "completed"
    },
    "tags": []
   },
   "outputs": [
    {
     "data": {
      "text/plain": [
       "<matplotlib.image.AxesImage at 0x7f0e01e1fc50>"
      ]
     },
     "execution_count": 9,
     "metadata": {},
     "output_type": "execute_result"
    },
    {
     "data": {
      "image/png": "[encoded data removed]",
      "text/plain": [
       "<Figure size 432x288 with 1 Axes>"
      ]
     },
     "metadata": {
      "needs_background": "light"
     },
     "output_type": "display_data"
    }
   ],
   "source": [
    "ds = MyDataset(valid, aug_val)\n",
    "im, dm = ds[0]\n",
    "plt.imshow(im, cmap='gray')"
   ]
  },
  {
   "cell_type": "code",
   "execution_count": 10,
   "metadata": {
    "execution": {
     "iopub.execute_input": "2021-01-31T08:10:37.442342Z",
     "iopub.status.busy": "2021-01-31T08:10:37.434739Z",
     "iopub.status.idle": "2021-01-31T08:10:37.561229Z",
     "shell.execute_reply": "2021-01-31T08:10:37.561640Z"
    },
    "papermill": {
     "duration": 0.15151,
     "end_time": "2021-01-31T08:10:37.561777",
     "exception": false,
     "start_time": "2021-01-31T08:10:37.410267",
     "status": "completed"
    },
    "tags": []
   },
   "outputs": [
    {
     "data": {
      "text/plain": [
       "<matplotlib.image.AxesImage at 0x7f0e00506490>"
      ]
     },
     "execution_count": 10,
     "metadata": {},
     "output_type": "execute_result"
    },
    {
     "data": {
      "image/png": "[encoded data removed]",
      "text/plain": [
       "<Figure size 432x288 with 1 Axes>"
      ]
     },
     "metadata": {
      "needs_background": "light"
     },
     "output_type": "display_data"
    }
   ],
   "source": [
    "plt.imshow(dm)"
   ]
  },
  {
   "cell_type": "code",
   "execution_count": 11,
   "metadata": {
    "execution": {
     "iopub.execute_input": "2021-01-31T08:10:37.597168Z",
     "iopub.status.busy": "2021-01-31T08:10:37.596637Z",
     "iopub.status.idle": "2021-01-31T08:10:39.200744Z",
     "shell.execute_reply": "2021-01-31T08:10:39.200102Z"
    },
    "papermill": {
     "duration": 1.623132,
     "end_time": "2021-01-31T08:10:39.200882",
     "exception": false,
     "start_time": "2021-01-31T08:10:37.577750",
     "status": "completed"
    },
    "tags": []
   },
   "outputs": [
    {
     "data": {
      "text/plain": [
       "<matplotlib.image.AxesImage at 0x7f0dfbfc8f50>"
      ]
     },
     "execution_count": 11,
     "metadata": {},
     "output_type": "execute_result"
    },
    {
     "data": {
      "image/png": "[encoded data removed]",
      "text/plain": [
       "<Figure size 432x288 with 1 Axes>"
      ]
     },
     "metadata": {
      "needs_background": "light"
     },
     "output_type": "display_data"
    }
   ],
   "source": [
    "plt.imshow(model(im.unsqueeze(0)).detach()[0])"
   ]
  },
  {
   "cell_type": "code",
   "execution_count": 12,
   "metadata": {
    "execution": {
     "iopub.execute_input": "2021-01-31T08:10:39.243427Z",
     "iopub.status.busy": "2021-01-31T08:10:39.242901Z",
     "iopub.status.idle": "2021-01-31T08:10:40.580182Z",
     "shell.execute_reply": "2021-01-31T08:10:40.580606Z"
    },
    "papermill": {
     "duration": 1.360872,
     "end_time": "2021-01-31T08:10:40.580762",
     "exception": false,
     "start_time": "2021-01-31T08:10:39.219890",
     "status": "completed"
    },
    "tags": []
   },
   "outputs": [
    {
     "data": {
      "text/plain": [
       "(tensor(98.2053), tensor(117.))"
      ]
     },
     "execution_count": 12,
     "metadata": {},
     "output_type": "execute_result"
    }
   ],
   "source": [
    "model(im.unsqueeze(0)).detach()[0].sum(), dm.sum()"
   ]
  },
  {
   "cell_type": "markdown",
   "metadata": {
    "papermill": {
     "duration": 0.017676,
     "end_time": "2021-01-31T08:10:40.616473",
     "exception": false,
     "start_time": "2021-01-31T08:10:40.598797",
     "status": "completed"
    },
    "tags": []
   },
   "source": [
    "## Eval"
   ]
  },
  {
   "cell_type": "code",
   "execution_count": 13,
   "metadata": {
    "execution": {
     "iopub.execute_input": "2021-01-31T08:10:40.656622Z",
     "iopub.status.busy": "2021-01-31T08:10:40.655886Z",
     "iopub.status.idle": "2021-01-31T08:10:40.658310Z",
     "shell.execute_reply": "2021-01-31T08:10:40.658681Z"
    },
    "papermill": {
     "duration": 0.024557,
     "end_time": "2021-01-31T08:10:40.658809",
     "exception": false,
     "start_time": "2021-01-31T08:10:40.634252",
     "status": "completed"
    },
    "tags": []
   },
   "outputs": [],
   "source": [
    "val_loader = DataLoader(MyDataset(valid, aug_val), batch_size=32, shuffle=False, drop_last=False, pin_memory=True, num_workers=4)"
   ]
  },
  {
   "cell_type": "code",
   "execution_count": 14,
   "metadata": {
    "execution": {
     "iopub.execute_input": "2021-01-31T08:10:40.701783Z",
     "iopub.status.busy": "2021-01-31T08:10:40.700860Z",
     "iopub.status.idle": "2021-01-31T08:11:18.944355Z",
     "shell.execute_reply": "2021-01-31T08:11:18.943903Z"
    },
    "papermill": {
     "duration": 38.267504,
     "end_time": "2021-01-31T08:11:18.944493",
     "exception": false,
     "start_time": "2021-01-31T08:10:40.676989",
     "status": "completed"
    },
    "tags": []
   },
   "outputs": [
    {
     "data": {
      "application/vnd.jupyter.widget-view+json": {
       "model_id": "66e985ebc6e64c75b37f21744de18f90",
       "version_major": 2,
       "version_minor": 0
      },
      "text/plain": [
       "  0%|          | 0/10 [00:00<?, ?it/s]"
      ]
     },
     "metadata": {},
     "output_type": "display_data"
    }
   ],
   "source": [
    "model = MCNN.load_from_checkpoint('../input/shtech-mcnn/lightning_logs/version_0/checkpoints/epoch=267-step=3215.ckpt')\n",
    "model = model.cuda()\n",
    "model.eval()\n",
    "rst = []\n",
    "gt = []\n",
    "for x, y in tqdm(val_loader):\n",
    "    with torch.no_grad():\n",
    "        x = x.cuda(non_blocking=True)\n",
    "        pred = torch.round(model(x).sum(dim=(1,2))).int().cpu().numpy()\n",
    "        \n",
    "    rst.append(pred)\n",
    "    gt.append(y.sum(dim=(1,2)).int().numpy())\n",
    "    \n",
    "rst = np.concatenate(rst, axis=0)\n",
    "gt = np.concatenate(gt, axis=0)"
   ]
  },
  {
   "cell_type": "markdown",
   "metadata": {
    "papermill": {
     "duration": 0.01869,
     "end_time": "2021-01-31T08:11:18.982233",
     "exception": false,
     "start_time": "2021-01-31T08:11:18.963543",
     "status": "completed"
    },
    "tags": []
   },
   "source": [
    "### MAE"
   ]
  },
  {
   "cell_type": "code",
   "execution_count": 15,
   "metadata": {
    "execution": {
     "iopub.execute_input": "2021-01-31T08:11:19.025868Z",
     "iopub.status.busy": "2021-01-31T08:11:19.024962Z",
     "iopub.status.idle": "2021-01-31T08:11:19.028977Z",
     "shell.execute_reply": "2021-01-31T08:11:19.029375Z"
    },
    "papermill": {
     "duration": 0.028906,
     "end_time": "2021-01-31T08:11:19.029501",
     "exception": false,
     "start_time": "2021-01-31T08:11:19.000595",
     "status": "completed"
    },
    "tags": []
   },
   "outputs": [
    {
     "data": {
      "text/plain": [
       "24.142405"
      ]
     },
     "execution_count": 15,
     "metadata": {},
     "output_type": "execute_result"
    }
   ],
   "source": [
    "np.abs((rst - gt)).astype(np.float32).mean()"
   ]
  },
  {
   "cell_type": "markdown",
   "metadata": {
    "papermill": {
     "duration": 0.018459,
     "end_time": "2021-01-31T08:11:19.066499",
     "exception": false,
     "start_time": "2021-01-31T08:11:19.048040",
     "status": "completed"
    },
    "tags": []
   },
   "source": [
    "### MSE"
   ]
  },
  {
   "cell_type": "code",
   "execution_count": 16,
   "metadata": {
    "execution": {
     "iopub.execute_input": "2021-01-31T08:11:19.109523Z",
     "iopub.status.busy": "2021-01-31T08:11:19.108764Z",
     "iopub.status.idle": "2021-01-31T08:11:19.114296Z",
     "shell.execute_reply": "2021-01-31T08:11:19.114712Z"
    },
    "papermill": {
     "duration": 0.029521,
     "end_time": "2021-01-31T08:11:19.114835",
     "exception": false,
     "start_time": "2021-01-31T08:11:19.085314",
     "status": "completed"
    },
    "tags": []
   },
   "outputs": [
    {
     "data": {
      "text/plain": [
       "1835.009493670886"
      ]
     },
     "execution_count": 16,
     "metadata": {},
     "output_type": "execute_result"
    }
   ],
   "source": [
    "((rst - gt) ** 2).mean()"
   ]
  }
 ],
 "metadata": {
  "kernelspec": {
   "display_name": "Python 3",
   "language": "python",
   "name": "python3"
  },
  "language_info": {
   "codemirror_mode": {
    "name": "ipython",
    "version": 3
   },
   "file_extension": ".py",
   "mimetype": "text/x-python",
   "name": "python",
   "nbconvert_exporter": "python",
   "pygments_lexer": "ipython3",
   "version": "3.7.9"
  },
  "papermill": {
   "default_parameters": {},
   "duration": 54.681877,
   "end_time": "2021-01-31T08:11:21.223103",
   "environment_variables": {},
   "exception": null,
   "input_path": "__notebook__.ipynb",
   "output_path": "__notebook__.ipynb",
   "parameters": {},
   "start_time": "2021-01-31T08:10:26.541226",
   "version": "2.2.2"
  },
  "widgets": {
   "application/vnd.jupyter.widget-state+json": {
    "state": {
     "051c4b59760048a49015d46d4ac79dc1": {
      "model_module": "@jupyter-widgets/controls",
      "model_module_version": "1.5.0",
      "model_name": "DescriptionStyleModel",
      "state": {
       "_model_module": "@jupyter-widgets/controls",
       "_model_module_version": "1.5.0",
       "_model_name": "DescriptionStyleModel",
       "_view_count": null,
       "_view_module": "@jupyter-widgets/base",
       "_view_module_version": "1.2.0",
       "_view_name": "StyleView",
       "description_width": ""
      }
     },
     "5081f05ca33e467e874c1b66515f20a0": {
      "model_module": "@jupyter-widgets/controls",
      "model_module_version": "1.5.0",
      "model_name": "ProgressStyleModel",
      "state": {
       "_model_module": "@jupyter-widgets/controls",
       "_model_module_version": "1.5.0",
       "_model_name": "ProgressStyleModel",
       "_view_count": null,
       "_view_module": "@jupyter-widgets/base",
       "_view_module_version": "1.2.0",
       "_view_name": "StyleView",
       "bar_color": null,
       "description_width": ""
      }
     },
     "5c68af75631345f9a1795261edec0e82": {
      "model_module": "@jupyter-widgets/base",
      "model_module_version": "1.2.0",
      "model_name": "LayoutModel",
      "state": {
       "_model_module": "@jupyter-widgets/base",
       "_model_module_version": "1.2.0",
       "_model_name": "LayoutModel",
       "_view_count": null,
       "_view_module": "@jupyter-widgets/base",
       "_view_module_version": "1.2.0",
       "_view_name": "LayoutView",
       "align_content": null,
       "align_items": null,
       "align_self": null,
       "border": null,
       "bottom": null,
       "display": null,
       "flex": null,
       "flex_flow": null,
       "grid_area": null,
       "grid_auto_columns": null,
       "grid_auto_flow": null,
       "grid_auto_rows": null,
       "grid_column": null,
       "grid_gap": null,
       "grid_row": null,
       "grid_template_areas": null,
       "grid_template_columns": null,
       "grid_template_rows": null,
       "height": null,
       "justify_content": null,
       "justify_items": null,
       "left": null,
       "margin": null,
       "max_height": null,
       "max_width": null,
       "min_height": null,
       "min_width": null,
       "object_fit": null,
       "object_position": null,
       "order": null,
       "overflow": null,
       "overflow_x": null,
       "overflow_y": null,
       "padding": null,
       "right": null,
       "top": null,
       "visibility": null,
       "width": null
      }
     },
     "618d1c3988a448229a056847b8d96739": {
      "model_module": "@jupyter-widgets/controls",
      "model_module_version": "1.5.0",
      "model_name": "DescriptionStyleModel",
      "state": {
       "_model_module": "@jupyter-widgets/controls",
       "_model_module_version": "1.5.0",
       "_model_name": "DescriptionStyleModel",
       "_view_count": null,
       "_view_module": "@jupyter-widgets/base",
       "_view_module_version": "1.2.0",
       "_view_name": "StyleView",
       "description_width": ""
      }
     },
     "66e985ebc6e64c75b37f21744de18f90": {
      "model_module": "@jupyter-widgets/controls",
      "model_module_version": "1.5.0",
      "model_name": "HBoxModel",
      "state": {
       "_dom_classes": [],
       "_model_module": "@jupyter-widgets/controls",
       "_model_module_version": "1.5.0",
       "_model_name": "HBoxModel",
       "_view_count": null,
       "_view_module": "@jupyter-widgets/controls",
       "_view_module_version": "1.5.0",
       "_view_name": "HBoxView",
       "box_style": "",
       "children": [
        "IPY_MODEL_de82cd124c784692aab66fae5247f099",
        "IPY_MODEL_b9cec78f04694c17a21608a252b65049",
        "IPY_MODEL_77e5bee739e746bfbb020054594517a1"
       ],
       "layout": "IPY_MODEL_77ed055ad33a4459acd3413f26382dbe"
      }
     },
     "77e5bee739e746bfbb020054594517a1": {
      "model_module": "@jupyter-widgets/controls",
      "model_module_version": "1.5.0",
      "model_name": "HTMLModel",
      "state": {
       "_dom_classes": [],
       "_model_module": "@jupyter-widgets/controls",
       "_model_module_version": "1.5.0",
       "_model_name": "HTMLModel",
       "_view_count": null,
       "_view_module": "@jupyter-widgets/controls",
       "_view_module_version": "1.5.0",
       "_view_name": "HTMLView",
       "description": "",
       "description_tooltip": null,
       "layout": "IPY_MODEL_95b003aaa49b46b0b5b008563469ec08",
       "placeholder": "​",
       "style": "IPY_MODEL_051c4b59760048a49015d46d4ac79dc1",
       "value": " 10/10 [00:34&lt;00:00,  2.17s/it]"
      }
     },
     "77ed055ad33a4459acd3413f26382dbe": {
      "model_module": "@jupyter-widgets/base",
      "model_module_version": "1.2.0",
      "model_name": "LayoutModel",
      "state": {
       "_model_module": "@jupyter-widgets/base",
       "_model_module_version": "1.2.0",
       "_model_name": "LayoutModel",
       "_view_count": null,
       "_view_module": "@jupyter-widgets/base",
       "_view_module_version": "1.2.0",
       "_view_name": "LayoutView",
       "align_content": null,
       "align_items": null,
       "align_self": null,
       "border": null,
       "bottom": null,
       "display": null,
       "flex": null,
       "flex_flow": null,
       "grid_area": null,
       "grid_auto_columns": null,
       "grid_auto_flow": null,
       "grid_auto_rows": null,
       "grid_column": null,
       "grid_gap": null,
       "grid_row": null,
       "grid_template_areas": null,
       "grid_template_columns": null,
       "grid_template_rows": null,
       "height": null,
       "justify_content": null,
       "justify_items": null,
       "left": null,
       "margin": null,
       "max_height": null,
       "max_width": null,
       "min_height": null,
       "min_width": null,
       "object_fit": null,
       "object_position": null,
       "order": null,
       "overflow": null,
       "overflow_x": null,
       "overflow_y": null,
       "padding": null,
       "right": null,
       "top": null,
       "visibility": null,
       "width": null
      }
     },
     "95b003aaa49b46b0b5b008563469ec08": {
      "model_module": "@jupyter-widgets/base",
      "model_module_version": "1.2.0",
      "model_name": "LayoutModel",
      "state": {
       "_model_module": "@jupyter-widgets/base",
       "_model_module_version": "1.2.0",
       "_model_name": "LayoutModel",
       "_view_count": null,
       "_view_module": "@jupyter-widgets/base",
       "_view_module_version": "1.2.0",
       "_view_name": "LayoutView",
       "align_content": null,
       "align_items": null,
       "align_self": null,
       "border": null,
       "bottom": null,
       "display": null,
       "flex": null,
       "flex_flow": null,
       "grid_area": null,
       "grid_auto_columns": null,
       "grid_auto_flow": null,
       "grid_auto_rows": null,
       "grid_column": null,
       "grid_gap": null,
       "grid_row": null,
       "grid_template_areas": null,
       "grid_template_columns": null,
       "grid_template_rows": null,
       "height": null,
       "justify_content": null,
       "justify_items": null,
       "left": null,
       "margin": null,
       "max_height": null,
       "max_width": null,
       "min_height": null,
       "min_width": null,
       "object_fit": null,
       "object_position": null,
       "order": null,
       "overflow": null,
       "overflow_x": null,
       "overflow_y": null,
       "padding": null,
       "right": null,
       "top": null,
       "visibility": null,
       "width": null
      }
     },
     "b9cec78f04694c17a21608a252b65049": {
      "model_module": "@jupyter-widgets/controls",
      "model_module_version": "1.5.0",
      "model_name": "FloatProgressModel",
      "state": {
       "_dom_classes": [],
       "_model_module": "@jupyter-widgets/controls",
       "_model_module_version": "1.5.0",
       "_model_name": "FloatProgressModel",
       "_view_count": null,
       "_view_module": "@jupyter-widgets/controls",
       "_view_module_version": "1.5.0",
       "_view_name": "ProgressView",
       "bar_style": "success",
       "description": "",
       "description_tooltip": null,
       "layout": "IPY_MODEL_bebd909e9d104022b1fc6a49c15608e6",
       "max": 10.0,
       "min": 0.0,
       "orientation": "horizontal",
       "style": "IPY_MODEL_5081f05ca33e467e874c1b66515f20a0",
       "value": 10.0
      }
     },
     "bebd909e9d104022b1fc6a49c15608e6": {
      "model_module": "@jupyter-widgets/base",
      "model_module_version": "1.2.0",
      "model_name": "LayoutModel",
      "state": {
       "_model_module": "@jupyter-widgets/base",
       "_model_module_version": "1.2.0",
       "_model_name": "LayoutModel",
       "_view_count": null,
       "_view_module": "@jupyter-widgets/base",
       "_view_module_version": "1.2.0",
       "_view_name": "LayoutView",
       "align_content": null,
       "align_items": null,
       "align_self": null,
       "border": null,
       "bottom": null,
       "display": null,
       "flex": null,
       "flex_flow": null,
       "grid_area": null,
       "grid_auto_columns": null,
       "grid_auto_flow": null,
       "grid_auto_rows": null,
       "grid_column": null,
       "grid_gap": null,
       "grid_row": null,
       "grid_template_areas": null,
       "grid_template_columns": null,
       "grid_template_rows": null,
       "height": null,
       "justify_content": null,
       "justify_items": null,
       "left": null,
       "margin": null,
       "max_height": null,
       "max_width": null,
       "min_height": null,
       "min_width": null,
       "object_fit": null,
       "object_position": null,
       "order": null,
       "overflow": null,
       "overflow_x": null,
       "overflow_y": null,
       "padding": null,
       "right": null,
       "top": null,
       "visibility": null,
       "width": null
      }
     },
     "de82cd124c784692aab66fae5247f099": {
      "model_module": "@jupyter-widgets/controls",
      "model_module_version": "1.5.0",
      "model_name": "HTMLModel",
      "state": {
       "_dom_classes": [],
       "_model_module": "@jupyter-widgets/controls",
       "_model_module_version": "1.5.0",
       "_model_name": "HTMLModel",
       "_view_count": null,
       "_view_module": "@jupyter-widgets/controls",
       "_view_module_version": "1.5.0",
       "_view_name": "HTMLView",
       "description": "",
       "description_tooltip": null,
       "layout": "IPY_MODEL_5c68af75631345f9a1795261edec0e82",
       "placeholder": "​",
       "style": "IPY_MODEL_618d1c3988a448229a056847b8d96739",
       "value": "100%"
      }
     }
    },
    "version_major": 2,
    "version_minor": 0
   }
  }
 },
 "nbformat": 4,
 "nbformat_minor": 4
}
